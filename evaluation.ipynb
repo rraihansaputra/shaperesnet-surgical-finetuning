{
 "cells": [
  {
   "cell_type": "code",
   "execution_count": null,
   "id": "e8902596-4236-411e-b343-8002e382f16c",
   "metadata": {},
   "outputs": [
    {
     "name": "stdout",
     "output_type": "stream",
     "text": [
      "PyTorch Version:  1.13.1+cu117\n",
      "Torchvision Version:  0.14.1+cu117\n"
     ]
    }
   ],
   "source": [
    "from __future__ import print_function\n",
    "from __future__ import division\n",
    "import torch\n",
    "import torch.nn as nn\n",
    "import torch.optim as optim\n",
    "import numpy as np\n",
    "import torchvision\n",
    "from torchvision import datasets, models, transforms\n",
    "import matplotlib.pyplot as plt\n",
    "import time\n",
    "import os\n",
    "import glob\n",
    "import copy\n",
    "print(\"PyTorch Version: \",torch.__version__)\n",
    "print(\"Torchvision Version: \",torchvision.__version__)"
   ]
  },
  {
   "cell_type": "code",
   "execution_count": null,
   "id": "6807acdf-12bb-4d99-a20f-6c73fb9ab037",
   "metadata": {},
   "outputs": [
    {
     "name": "stdout",
     "output_type": "stream",
     "text": [
      "Initializing Datasets and Dataloaders...\n"
     ]
    }
   ],
   "source": [
    "# Might need to adjust for different data sets\n",
    "DATA_DIR = \"/mnt/d/dataset/imagenet\"\n",
    "# DATA_DIR = \"/mnt/d/dataset/stylized-imagenet\"\n",
    "\n",
    "data_dir = DATA_DIR\n",
    "\n",
    "# May need to adjust per machine specs\n",
    "BATCH_SIZE = 128 # 128 uses ~14GB, 192 uses 19,5 GB, 256 uses 24GB. 192 ~= 256\n",
    "INPUT_SIZE = 224\n",
    "input_size = INPUT_SIZE\n",
    "\n",
    "# Data augmentation and normalization for training\n",
    "# Just normalization for validation\n",
    "data_transforms = {\n",
    "    'train': transforms.Compose([\n",
    "        transforms.RandomResizedCrop(input_size),\n",
    "        transforms.RandomHorizontalFlip(),\n",
    "        transforms.ToTensor(),\n",
    "        transforms.Normalize([0.485, 0.456, 0.406], [0.229, 0.224, 0.225])\n",
    "    ]),\n",
    "    'val': transforms.Compose([\n",
    "        transforms.Resize(256), # TODO imagenet training uses 256 input size, crop to 224 on the next line\n",
    "        transforms.CenterCrop(input_size),\n",
    "        transforms.ToTensor(),\n",
    "        transforms.Normalize([0.485, 0.456, 0.406], [0.229, 0.224, 0.225])\n",
    "    ]),\n",
    "}\n",
    "\n",
    "print(\"Initializing Datasets and Dataloaders...\")\n",
    "\n",
    "# Create training and validation datasets\n",
    "image_datasets = {x: datasets.ImageFolder(os.path.join(data_dir, x), data_transforms[x]) for x in ['val']}\n",
    "# Create training and validation dataloaders\n",
    "dataloaders_dict = {x: torch.utils.data.DataLoader(image_datasets[x], \n",
    "                                                   batch_size=BATCH_SIZE, \n",
    "                                                   shuffle=True, num_workers=4) for x in ['val']}\n",
    "\n",
    "# Detect if we have a GPU available\n",
    "device = torch.device(\"cuda:0\" if torch.cuda.is_available() else \"cpu\")"
   ]
  },
  {
   "cell_type": "code",
   "execution_count": null,
   "id": "ee8135bc-635d-484c-9e6e-b21bb63de547",
   "metadata": {
    "tags": []
   },
   "outputs": [],
   "source": [
    "def eval_model(model,dataloaders):\n",
    "    since = time.time()\n",
    "    model.to('cuda')\n",
    "    model.eval()\n",
    "\n",
    "    criterion = nn.CrossEntropyLoss()\n",
    "    running_loss = 0.0\n",
    "    running_corrects_top1 = 0\n",
    "    running_corrects_top5 = 0\n",
    "\n",
    "    for inputs, labels in dataloaders['val']:\n",
    "\n",
    "\n",
    "        inputs = inputs.to('cuda')\n",
    "        labels = labels.to('cuda')\n",
    "\n",
    "        outputs = model(inputs)\n",
    "        loss = criterion(outputs, labels)\n",
    "        _, preds_top1 = torch.max(outputs,1)\n",
    "        _, preds_top5 = torch.topk(outputs,5,1)\n",
    "\n",
    "        running_loss += loss.item() * inputs.size(0)\n",
    "        running_corrects_top1 += torch.sum(preds_top1==labels.data)\n",
    "        running_corrects_top5 += torch.sum(labels.unsqueeze(1).expand_as(preds_top5) == preds_top5).item()\n",
    "\n",
    "    epoch_loss = running_loss / len(dataloaders['val'].dataset)\n",
    "    epoch_acc_top1 = (running_corrects_top1.double() / len(dataloaders['val'].dataset)).item()\n",
    "    epoch_acc_top5 = running_corrects_top5 / len(dataloaders['val'].dataset)\n",
    "    time_elapsed = time.time() - since\n",
    "    print(f'{epoch_loss=}, {epoch_acc_top1=}, {epoch_acc_top5=}, {time_elapsed=}')\n",
    "    return (epoch_loss, epoch_acc_top1, epoch_acc_top5, time_elapsed)"
   ]
  },
  {
   "cell_type": "code",
   "execution_count": null,
   "id": "25d37c90-5e74-4015-be44-43ce318c4651",
   "metadata": {},
   "outputs": [
    {
     "data": {
      "text/plain": [
       "PosixPath('/mnt/d/Projects/7007G/surgical-fine-tune/finetuned_models/10k-001-1.pt')"
      ]
     },
     "execution_count": 6,
     "metadata": {},
     "output_type": "execute_result"
    }
   ],
   "source": [
    "from pathlib import Path\n",
    "\n",
    "p = Path(\"./finetuned_models/\")\n",
    "filtered = [x.absolute() for x in p.glob(\"*.pt\") if not x.name.endswith(\"best.pt\")]\n",
    "\n",
    "filtered[0].absolute()"
   ]
  },
  {
   "cell_type": "code",
   "execution_count": null,
   "id": "cfb4a95a-f1ce-4055-b23a-a18b5a6579c6",
   "metadata": {
    "collapsed": true,
    "jupyter": {
     "outputs_hidden": true
    },
    "tags": []
   },
   "outputs": [
    {
     "name": "stdout",
     "output_type": "stream",
     "text": [
      "5k-0001-3\tepoch_loss=1.3252680839920044, epoch_acc_top1=0.6817200000000001, epoch_acc_top5=0.88438, time_elapsed=136.4023196697235\n",
      "[[1.3252680839920044, 0.6817200000000001, 0.88438, 136.4023196697235, '5k-0001-3']]\n",
      "5k-0001-4\tepoch_loss=1.354621337966919, epoch_acc_top1=0.6859400000000001, epoch_acc_top5=0.88424, time_elapsed=136.43243217468262\n",
      "[[1.3252680839920044, 0.6817200000000001, 0.88438, 136.4023196697235, '5k-0001-3'], [1.354621337966919, 0.6859400000000001, 0.88424, 136.43243217468262, '5k-0001-4']]\n",
      "5k-001-1\tepoch_loss=1.4621760076904298, epoch_acc_top1=0.6560800000000001, epoch_acc_top5=0.86754, time_elapsed=137.88075351715088\n",
      "[[1.3252680839920044, 0.6817200000000001, 0.88438, 136.4023196697235, '5k-0001-3'], [1.354621337966919, 0.6859400000000001, 0.88424, 136.43243217468262, '5k-0001-4'], [1.4621760076904298, 0.6560800000000001, 0.86754, 137.88075351715088, '5k-001-1']]\n",
      "5k-001-2\tepoch_loss=1.4689690462493896, epoch_acc_top1=0.65332, epoch_acc_top5=0.8647, time_elapsed=138.29184889793396\n",
      "[[1.3252680839920044, 0.6817200000000001, 0.88438, 136.4023196697235, '5k-0001-3'], [1.354621337966919, 0.6859400000000001, 0.88424, 136.43243217468262, '5k-0001-4'], [1.4621760076904298, 0.6560800000000001, 0.86754, 137.88075351715088, '5k-001-1'], [1.4689690462493896, 0.65332, 0.8647, 138.29184889793396, '5k-001-2']]\n",
      "5k-001-3\tepoch_loss=1.433486184501648, epoch_acc_top1=0.6670400000000001, epoch_acc_top5=0.87614, time_elapsed=137.1048939228058\n",
      "[[1.3252680839920044, 0.6817200000000001, 0.88438, 136.4023196697235, '5k-0001-3'], [1.354621337966919, 0.6859400000000001, 0.88424, 136.43243217468262, '5k-0001-4'], [1.4621760076904298, 0.6560800000000001, 0.86754, 137.88075351715088, '5k-001-1'], [1.4689690462493896, 0.65332, 0.8647, 138.29184889793396, '5k-001-2'], [1.433486184501648, 0.6670400000000001, 0.87614, 137.1048939228058, '5k-001-3']]\n",
      "5k-001-4\tepoch_loss=1.4999690301132202, epoch_acc_top1=0.6601600000000001, epoch_acc_top5=0.86914, time_elapsed=142.2264323234558\n",
      "[[1.3252680839920044, 0.6817200000000001, 0.88438, 136.4023196697235, '5k-0001-3'], [1.354621337966919, 0.6859400000000001, 0.88424, 136.43243217468262, '5k-0001-4'], [1.4621760076904298, 0.6560800000000001, 0.86754, 137.88075351715088, '5k-001-1'], [1.4689690462493896, 0.65332, 0.8647, 138.29184889793396, '5k-001-2'], [1.433486184501648, 0.6670400000000001, 0.87614, 137.1048939228058, '5k-001-3'], [1.4999690301132202, 0.6601600000000001, 0.86914, 142.2264323234558, '5k-001-4']]\n",
      "5k-1e-05-1\tepoch_loss=1.4604200373077392, epoch_acc_top1=0.6576000000000001, epoch_acc_top5=0.86756, time_elapsed=137.08941793441772\n",
      "[[1.3252680839920044, 0.6817200000000001, 0.88438, 136.4023196697235, '5k-0001-3'], [1.354621337966919, 0.6859400000000001, 0.88424, 136.43243217468262, '5k-0001-4'], [1.4621760076904298, 0.6560800000000001, 0.86754, 137.88075351715088, '5k-001-1'], [1.4689690462493896, 0.65332, 0.8647, 138.29184889793396, '5k-001-2'], [1.433486184501648, 0.6670400000000001, 0.87614, 137.1048939228058, '5k-001-3'], [1.4999690301132202, 0.6601600000000001, 0.86914, 142.2264323234558, '5k-001-4'], [1.4604200373077392, 0.6576000000000001, 0.86756, 137.08941793441772, '5k-1e-05-1']]\n",
      "5k-1e-05-2\tepoch_loss=1.4543686347961426, epoch_acc_top1=0.6591600000000001, epoch_acc_top5=0.86774, time_elapsed=137.37597489356995\n",
      "[[1.3252680839920044, 0.6817200000000001, 0.88438, 136.4023196697235, '5k-0001-3'], [1.354621337966919, 0.6859400000000001, 0.88424, 136.43243217468262, '5k-0001-4'], [1.4621760076904298, 0.6560800000000001, 0.86754, 137.88075351715088, '5k-001-1'], [1.4689690462493896, 0.65332, 0.8647, 138.29184889793396, '5k-001-2'], [1.433486184501648, 0.6670400000000001, 0.87614, 137.1048939228058, '5k-001-3'], [1.4999690301132202, 0.6601600000000001, 0.86914, 142.2264323234558, '5k-001-4'], [1.4604200373077392, 0.6576000000000001, 0.86756, 137.08941793441772, '5k-1e-05-1'], [1.4543686347961426, 0.6591600000000001, 0.86774, 137.37597489356995, '5k-1e-05-2']]\n",
      "5k-1e-05-3\tepoch_loss=1.408392772140503, epoch_acc_top1=0.6673, epoch_acc_top5=0.873, time_elapsed=137.78484463691711\n",
      "[[1.3252680839920044, 0.6817200000000001, 0.88438, 136.4023196697235, '5k-0001-3'], [1.354621337966919, 0.6859400000000001, 0.88424, 136.43243217468262, '5k-0001-4'], [1.4621760076904298, 0.6560800000000001, 0.86754, 137.88075351715088, '5k-001-1'], [1.4689690462493896, 0.65332, 0.8647, 138.29184889793396, '5k-001-2'], [1.433486184501648, 0.6670400000000001, 0.87614, 137.1048939228058, '5k-001-3'], [1.4999690301132202, 0.6601600000000001, 0.86914, 142.2264323234558, '5k-001-4'], [1.4604200373077392, 0.6576000000000001, 0.86756, 137.08941793441772, '5k-1e-05-1'], [1.4543686347961426, 0.6591600000000001, 0.86774, 137.37597489356995, '5k-1e-05-2'], [1.408392772140503, 0.6673, 0.873, 137.78484463691711, '5k-1e-05-3']]\n"
     ]
    }
   ],
   "source": [
    "dataloaders = dataloaders_dict\n",
    "res = []\n",
    "\n",
    "for weights_path in filtered:\n",
    "    print(weights_path.stem, end='\\t')\n",
    "    model = models.resnet50(weights='ResNet50_Weights.IMAGENET1K_V1')\n",
    "    model.load_state_dict(torch.load(weights_path))\n",
    "    dataloaders = dataloaders_dict\n",
    "    e_res = list(eval_model(model,dataloaders))\n",
    "    e_res.append(weights_path.stem)\n",
    "    res.append(e_res)\n"
   ]
  },
  {
   "cell_type": "code",
   "execution_count": null,
   "id": "0c9b7681-5e8b-4970-b0b4-3116184f959b",
   "metadata": {},
   "outputs": [
    {
     "name": "stdout",
     "output_type": "stream",
     "text": [
      "epoch_loss=1.3964715154266358, epoch_acc_top1=tensor(0.6766, device='cuda:0', dtype=torch.float64), epoch_acc_top5=0.8803, time_elapsed=113.3026909828186\n"
     ]
    }
   ],
   "source": [
    "model = models.resnet50(weights='ResNet50_Weights.IMAGENET1K_V1')\n",
    "model.load_state_dict(torch.load('./10k-001-3.pt'))\n",
    "dataloaders = dataloaders_dict\n",
    "eval_model(model,dataloaders)"
   ]
  },
  {
   "cell_type": "code",
   "execution_count": null,
   "id": "7b57dac0-cf8b-412d-b07f-b3438e1a29ad",
   "metadata": {},
   "outputs": [
    {
     "name": "stdout",
     "output_type": "stream",
     "text": [
      "epoch_loss=1.4836121859741211, epoch_acc_top1=tensor(0.6525, device='cuda:0', dtype=torch.float64), epoch_acc_top5=0.8675, time_elapsed=113.71439123153687\n"
     ]
    }
   ],
   "source": [
    "eval_model(model,dataloaders)"
   ]
  },
  {
   "cell_type": "code",
   "execution_count": null,
   "id": "6711ff88-cdb4-4ed3-a5d6-dc385f641371",
   "metadata": {
    "tags": []
   },
   "outputs": [
    {
     "name": "stdout",
     "output_type": "stream",
     "text": [
      "epoch_loss=0.9615748849105835, epoch_acc_top1=tensor(0.7614, device='cuda:0', dtype=torch.float64), epoch_acc_top5=0.92872, time_elapsed=115.07258129119873\n"
     ]
    }
   ],
   "source": [
    "model = models.resnet50(weights='ResNet50_Weights.IMAGENET1K_V1')\n",
    "# model.load_state_dict(torch.load('./10k-001-3-100e.pt'))\n",
    "dataloaders = dataloaders_dict\n",
    "eval_model(model,dataloaders)"
   ]
  },
  {
   "cell_type": "code",
   "execution_count": null,
   "id": "efcf2e8d-74a9-4473-800f-ef82f72882db",
   "metadata": {},
   "outputs": [
    {
     "data": {
      "text/plain": [
       "<All keys matched successfully>"
      ]
     },
     "execution_count": 19,
     "metadata": {},
     "output_type": "execute_result"
    }
   ],
   "source": [
    "model"
   ]
  },
  {
   "cell_type": "code",
   "execution_count": null,
   "id": "c4cdd98b-a2b2-4705-b594-5b0b5c9e87e1",
   "metadata": {},
   "outputs": [
    {
     "data": {
      "text/plain": [
       "0.9615749324417114"
      ]
     },
     "execution_count": 6,
     "metadata": {},
     "output_type": "execute_result"
    }
   ],
   "source": [
    "# results of IMAGENET1K_V1 on imagenet val\n",
    "# epoch_loss, epoch_acc, time_elapsed/60\n",
    "# epoch_loss = 0.96157\n",
    "# epoch_acc = 0.7614\n",
    "# time_elapsed 118.823552"
   ]
  }
 ],
 "metadata": {
  "kernelspec": {
   "display_name": "Python 3 (ipykernel)",
   "language": "python",
   "name": "python3"
  },
  "language_info": {
   "codemirror_mode": {
    "name": "ipython",
    "version": 3
   },
   "file_extension": ".py",
   "mimetype": "text/x-python",
   "name": "python",
   "nbconvert_exporter": "python",
   "pygments_lexer": "ipython3",
   "version": "3.9.12"
  }
 },
 "nbformat": 4,
 "nbformat_minor": 5
}
